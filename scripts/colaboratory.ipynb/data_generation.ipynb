# Célula 1: Criação do arquivo config.json
import json

config_data = {
    "n_registros": 50000,
    "data_inicio": "2024-01-01",
    "data_fim": "2024-12-31",
    "sazonalidade": True,
    "output_path": "resources/data/dados_logisticos.csv",
    "centros_distribuicao": [
        "São Paulo (SP)",
        "Recife (PE)",
        "Brasília (DF)",
        "Florianópolis (SC)",
        "Belém (PA)"
    ]
}

with open("config.json", "w") as f:
    json.dump(config_data, f, indent=4)

print("Arquivo config.json criado com sucesso.")

# Célula 2: helpers.py - funções para gerar e salvar dados
import os
import numpy as np
import pandas as pd

def gerar_dados_sinteticos(config):
    """
    Gera dados sintéticos de pedidos logísticos.
    """
    n = config["n_registros"]
    centros = config["centros_distribuicao"]

    ids = np.arange(1, n + 1)

    dates = pd.date_range(start=config["data_inicio"], end=config["data_fim"], freq='H')
    dates = np.random.choice(dates, n, replace=True)

    if config.get("sazonalidade", True):
        mask = np.isin(pd.to_datetime(dates).month, [11, 12]) & (np.random.rand(n) < 0.5)
        dates[mask] = np.random.choice(pd.date_range("2024-11-01", "2024-12-31", freq='H'), mask.sum())

    centros_cd = np.random.choice(centros, n)
    tempo_separacao = np.clip(np.random.normal(20, 5, n), 5, 60)
    tempo_embalagem = np.clip(np.random.normal(10, 3, n), 2, 30)
    tempo_total = tempo_separacao + tempo_embalagem + np.random.randint(5, 20, n)
    status_pedido = np.random.choice(["Entregue", "Atrasado"], n, p=[0.85, 0.15])
    percentual_ocupacao_CD = np.clip(np.random.normal(75, 15, n), 40, 100)
    qtd_pedidos_dia_CD = np.random.randint(500, 5000, n)
    erro_picking = np.random.choice([0, 1], n, p=[0.95, 0.05])
    atraso_transporte_min = np.where(status_pedido == "Atrasado", np.random.randint(10, 120, n), 0)
    categorias = ["Eletrodoméstico", "Vestuário", "Alimentos", "Eletrônicos", "Brinquedos"]
    categoria_produto = np.random.choice(categorias, n)
    quantidade_itens = np.random.randint(1, 10, n)
    peso_total_kg = np.random.uniform(0.5, 30.0, n)

    df = pd.DataFrame({
        "id_pedido": ids,
        "data_hora_pedido": dates,
        "centro_distribuicao": centros_cd,
        "tempo_separacao_min": np.round(tempo_separacao, 2),
        "tempo_embalagem_min": np.round(tempo_embalagem, 2),
        "tempo_total_processamento_min": np.round(tempo_total, 2),
        "status_pedido": status_pedido,
        "percentual_ocupacao_CD": np.round(percentual_ocupacao_CD, 2),
        "qtd_pedidos_dia_CD": qtd_pedidos_dia_CD,
        "erro_picking": erro_picking,
        "atraso_transporte_min": atraso_transporte_min,
        "categoria_produto": categoria_produto,
        "quantidade_itens": quantidade_itens,
        "peso_total_kg": np.round(peso_total_kg, 2)
    })

    return df

def salvar_csv(df, caminho):
    """Salva o DataFrame como CSV, criando diretórios se necessário."""
    os.makedirs(os.path.dirname(caminho), exist_ok=True)
    df.to_csv(caminho, index=False)

# Célula 3: validation.py - função de validação de dados
def validar_dados(df):
    """Executa verificações básicas de integridade dos dados."""
    assert not df.isnull().values.any(), "Existem valores nulos no DataFrame."
    assert (df["peso_total_kg"] >= 0).all(), "Há valores negativos de peso."
    assert set(df["status_pedido"]).issubset({"Entregue", "Atrasado"}), "Status de pedido inválido."

# Célula 4: Script principal adaptado para Google Colab
import json
import logging

# Importando das células anteriores
# from helpers import gerar_dados_sinteticos, salvar_csv
# from validation import validar_dados

# Configurar logging
logging.basicConfig(level=logging.INFO, format='%(asctime)s - %(levelname)s - %(message)s')

def carregar_configuracao(caminho_config):
    """Carrega as configurações do arquivo JSON."""
    with open(caminho_config, "r") as f:
        return json.load(f)

def main(config_path="config.json"):
    config = carregar_configuracao(config_path)
    logging.info("Configurações carregadas com sucesso.")

    df = gerar_dados_sinteticos(config)
    logging.info("Dados gerados com sucesso.")

    validar_dados(df)
    logging.info("Validação de dados concluída com sucesso.")

    salvar_csv(df, config["output_path"])
    logging.info(f"Arquivo salvo em {config['output_path']}.")

    display(df.head())

# Rodando diretamente no Colab
main("config.json")


