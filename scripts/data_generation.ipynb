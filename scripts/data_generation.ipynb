{
 "cells": [
  {
   "cell_type": "code",
   "execution_count": 1,
   "id": "97c21834",
   "metadata": {},
   "outputs": [],
   "source": [
    "import pandas as pd\n",
    "import numpy as np\n",
    "import os"
   ]
  },
  {
   "cell_type": "code",
   "execution_count": 2,
   "id": "8175b537",
   "metadata": {},
   "outputs": [],
   "source": [
    "# Define o diretório em que o csv será salvo\n",
    "PATH_RESOURCES = os.path.join(os.path.dirname(os.getcwd()), \"resources/data/\")\n",
    "\n",
    "if PATH_RESOURCES not in os.getcwd():\n",
    "    os.makedirs(PATH_RESOURCES, exist_ok=True)"
   ]
  },
  {
   "cell_type": "code",
   "execution_count": 3,
   "id": "01878ecd",
   "metadata": {},
   "outputs": [],
   "source": [
    "# Definição do número de registros\n",
    "n = 50000  "
   ]
  },
  {
   "cell_type": "code",
   "execution_count": 4,
   "id": "ef7c2c97",
   "metadata": {},
   "outputs": [],
   "source": [
    "# Gerar datas entre 01/01/2024 e 31/12/2024\n",
    "dates = pd.date_range(start=\"2024-01-01\", end=\"2024-12-31\", freq=\"h\")\n",
    "dates = np.random.choice(dates, n, replace=True)"
   ]
  },
  {
   "cell_type": "code",
   "execution_count": 5,
   "id": "7c05af85",
   "metadata": {},
   "outputs": [],
   "source": [
    "# Simular sazonalidade: mais pedidos em novembro e dezembro, menos em janeiro e fevereiro\n",
    "for i in range(n):\n",
    "    mes = pd.Timestamp(dates[i]).month\n",
    "    if mes in [11, 12]:  # Black Friday e Natal\n",
    "        if np.random.rand() < 0.5:  # 50% de chance de criar um pedido extra\n",
    "            dates[i] = np.random.choice(\n",
    "                pd.date_range(\"2024-11-01\", \"2024-12-31\", freq=\"h\")\n",
    "            )\n",
    "    elif mes in [1, 2]:  # Período de baixa demanda\n",
    "        if np.random.rand() < 0.3:  # 30% de chance de remover um pedido\n",
    "            dates[i] = np.random.choice(\n",
    "                pd.date_range(\"2024-01-01\", \"2024-02-28\", freq=\"h\")\n",
    "            )"
   ]
  },
  {
   "cell_type": "code",
   "execution_count": 6,
   "id": "e979ff6f",
   "metadata": {},
   "outputs": [],
   "source": [
    "# Centros de distribuição\n",
    "centros = [\n",
    "    \"São Paulo (SP)\",\n",
    "    \"Recife (PE)\",\n",
    "    \"Brasília (DF)\",\n",
    "    \"Florianópolis (SC)\",\n",
    "    \"Belém (PA)\",\n",
    "]\n",
    "centros_cd = np.random.choice(centros, n)"
   ]
  },
  {
   "cell_type": "code",
   "execution_count": 7,
   "id": "1158dd4d",
   "metadata": {},
   "outputs": [],
   "source": [
    "# Percentual de ocupação do CD no momento do pedido (%)\n",
    "percentual_ocupacao_CD = np.random.normal(loc=75, scale=15, size=n)\n",
    "percentual_ocupacao_CD = np.clip(percentual_ocupacao_CD, 40, 100)"
   ]
  },
  {
   "cell_type": "code",
   "execution_count": 8,
   "id": "485db80f",
   "metadata": {},
   "outputs": [],
   "source": [
    "# Tempo de separação aumenta se a ocupação do CD for alta\n",
    "tempo_separacao = (\n",
    "    np.random.normal(loc=20, scale=5, size=n) + (percentual_ocupacao_CD - 75) * 0.2\n",
    ")\n",
    "tempo_separacao = np.clip(tempo_separacao, 5, 60)"
   ]
  },
  {
   "cell_type": "code",
   "execution_count": 9,
   "id": "d2fb496c",
   "metadata": {},
   "outputs": [],
   "source": [
    "# Tempo de embalagem varia conforme o tamanho do pedido\n",
    "quantidade_itens = np.random.randint(1, 10, n)\n",
    "tempo_embalagem = np.random.normal(loc=10, scale=3, size=n) + quantidade_itens * 0.5\n",
    "tempo_embalagem = np.clip(tempo_embalagem, 2, 30)"
   ]
  },
  {
   "cell_type": "code",
   "execution_count": 10,
   "id": "f514c49c",
   "metadata": {},
   "outputs": [],
   "source": [
    "# Tempo total de processamento\n",
    "tempo_total = tempo_separacao + tempo_embalagem + np.random.randint(5, 20, n)"
   ]
  },
  {
   "cell_type": "code",
   "execution_count": 11,
   "id": "b1948384",
   "metadata": {},
   "outputs": [],
   "source": [
    "# Status do pedido: 15% de chance de atraso, mas maior quando o CD está superlotado\n",
    "prob_atraso = np.where(\n",
    "    percentual_ocupacao_CD > 85, 0.25, 0.15\n",
    ")  # Maior atraso se ocupação > 85%\n",
    "status_pedido = np.where(np.random.rand(n) < prob_atraso, \"Atrasado\", \"Entregue\")"
   ]
  },
  {
   "cell_type": "code",
   "execution_count": 12,
   "id": "1ae04970",
   "metadata": {},
   "outputs": [],
   "source": [
    "# Tempo de atraso no transporte (apenas para pedidos atrasados)\n",
    "atraso_transporte_min = np.where(\n",
    "    status_pedido == \"Atrasado\", np.random.randint(10, 120, n), 0\n",
    ")"
   ]
  },
  {
   "cell_type": "code",
   "execution_count": 13,
   "id": "2ce71703",
   "metadata": {},
   "outputs": [],
   "source": [
    "# Erro na separação do pedido (1 = sim, 0 = não) - Mais comum em picos de demanda\n",
    "erro_picking = np.random.choice([0, 1], n, p=[0.95, 0.05])"
   ]
  },
  {
   "cell_type": "code",
   "execution_count": 14,
   "id": "91663d99",
   "metadata": {},
   "outputs": [],
   "source": [
    "# Categorias de produto\n",
    "categorias = [\"Eletrodoméstico\", \"Vestuário\", \"Alimentos\", \"Eletrônicos\", \"Brinquedos\"]\n",
    "categoria_produto = np.random.choice(categorias, n)"
   ]
  },
  {
   "cell_type": "code",
   "execution_count": 15,
   "id": "cb139d73",
   "metadata": {},
   "outputs": [],
   "source": [
    "# Peso total do pedido (kg) - Produtos maiores exigem mais tempo\n",
    "peso_total_kg = np.random.uniform(0.5, 30.0, n)"
   ]
  },
  {
   "cell_type": "code",
   "execution_count": 16,
   "id": "33fe9acd",
   "metadata": {
    "lines_to_next_cell": 2
   },
   "outputs": [],
   "source": [
    "# Criar DataFrame\n",
    "df = pd.DataFrame(\n",
    "    {\n",
    "        \"id_pedido\": np.arange(1, n + 1),\n",
    "        \"data_hora_pedido\": dates,\n",
    "        \"centro_distribuicao\": centros_cd,\n",
    "        \"percentual_ocupacao_CD\": np.round(percentual_ocupacao_CD, 2),\n",
    "        \"tempo_separacao_min\": np.round(tempo_separacao, 2),\n",
    "        \"tempo_embalagem_min\": np.round(tempo_embalagem, 2),\n",
    "        \"tempo_total_processamento_min\": np.round(tempo_total, 2),\n",
    "        \"status_pedido\": status_pedido,\n",
    "        \"atraso_transporte_min\": atraso_transporte_min,\n",
    "        \"erro_picking\": erro_picking,\n",
    "        \"categoria_produto\": categoria_produto,\n",
    "        \"quantidade_itens\": quantidade_itens,\n",
    "        \"peso_total_kg\": np.round(peso_total_kg, 2),\n",
    "    }\n",
    ")"
   ]
  },
  {
   "cell_type": "code",
   "execution_count": 17,
   "id": "9fdeed8d",
   "metadata": {
    "lines_to_next_cell": 2
   },
   "outputs": [
    {
     "name": "stdout",
     "output_type": "stream",
     "text": [
      "   id_pedido    data_hora_pedido centro_distribuicao  percentual_ocupacao_CD  \\\n",
      "0          1 2024-01-25 01:00:00  Florianópolis (SC)                   61.23   \n",
      "1          2 2024-02-12 23:00:00  Florianópolis (SC)                  100.00   \n",
      "2          3 2024-10-26 05:00:00         Recife (PE)                   81.07   \n",
      "3          4 2024-01-08 14:00:00      São Paulo (SP)                   67.09   \n",
      "4          5 2024-02-06 03:00:00      São Paulo (SP)                   99.72   \n",
      "\n",
      "   tempo_separacao_min  tempo_embalagem_min  tempo_total_processamento_min  \\\n",
      "0                19.91                10.99                          49.90   \n",
      "1                22.99                19.46                          56.45   \n",
      "2                20.64                16.20                          42.84   \n",
      "3                14.88                10.02                          36.90   \n",
      "4                21.39                17.99                          44.38   \n",
      "\n",
      "  status_pedido  atraso_transporte_min  erro_picking categoria_produto  \\\n",
      "0      Entregue                      0             0   Eletrodoméstico   \n",
      "1      Entregue                      0             0       Eletrônicos   \n",
      "2      Entregue                      0             0         Vestuário   \n",
      "3      Entregue                      0             0         Alimentos   \n",
      "4      Entregue                      0             0         Vestuário   \n",
      "\n",
      "   quantidade_itens  peso_total_kg  \n",
      "0                 7          10.99  \n",
      "1                 2          13.28  \n",
      "2                 9           9.97  \n",
      "3                 3           9.92  \n",
      "4                 7          21.40  \n"
     ]
    }
   ],
   "source": [
    "# Exibir as primeiras linhas\n",
    "print(df.head())"
   ]
  },
  {
   "cell_type": "code",
   "execution_count": 18,
   "id": "3fd4e5e9",
   "metadata": {},
   "outputs": [],
   "source": [
    "#  Remover valores duplicados\n",
    "df = df.drop_duplicates()"
   ]
  },
  {
   "cell_type": "code",
   "execution_count": 19,
   "id": "636ad66a",
   "metadata": {},
   "outputs": [],
   "source": [
    "# Verificar e tratar valores nulos\n",
    "df = df.dropna()"
   ]
  },
  {
   "cell_type": "code",
   "execution_count": 20,
   "id": "23733c8d",
   "metadata": {},
   "outputs": [],
   "source": [
    "# Converter tipos de dados\n",
    "df[\"data_hora_pedido\"] = pd.to_datetime(df[\"data_hora_pedido\"])\n",
    "df[\"centro_distribuicao\"] = df[\"centro_distribuicao\"].astype(\"category\")\n",
    "df[\"status_pedido\"] = df[\"status_pedido\"].astype(\"category\")\n",
    "df[\"categoria_produto\"] = df[\"categoria_produto\"].astype(\"category\")"
   ]
  },
  {
   "cell_type": "code",
   "execution_count": 21,
   "id": "ebf2c98e",
   "metadata": {},
   "outputs": [],
   "source": [
    "# Salvar dataset processado\n",
    "df.to_csv(os.path.join(PATH_RESOURCES, \"dados_logisticos_sinteticos.csv\"), index=False)"
   ]
  },
  {
   "cell_type": "code",
   "execution_count": 22,
   "id": "ef57d392",
   "metadata": {},
   "outputs": [
    {
     "name": "stdout",
     "output_type": "stream",
     "text": [
      "\n",
      "Informações do Dataset Processado:\n",
      "<class 'pandas.core.frame.DataFrame'>\n",
      "RangeIndex: 50000 entries, 0 to 49999\n",
      "Data columns (total 13 columns):\n",
      " #   Column                         Non-Null Count  Dtype         \n",
      "---  ------                         --------------  -----         \n",
      " 0   id_pedido                      50000 non-null  int64         \n",
      " 1   data_hora_pedido               50000 non-null  datetime64[ns]\n",
      " 2   centro_distribuicao            50000 non-null  category      \n",
      " 3   percentual_ocupacao_CD         50000 non-null  float64       \n",
      " 4   tempo_separacao_min            50000 non-null  float64       \n",
      " 5   tempo_embalagem_min            50000 non-null  float64       \n",
      " 6   tempo_total_processamento_min  50000 non-null  float64       \n",
      " 7   status_pedido                  50000 non-null  category      \n",
      " 8   atraso_transporte_min          50000 non-null  int64         \n",
      " 9   erro_picking                   50000 non-null  int64         \n",
      " 10  categoria_produto              50000 non-null  category      \n",
      " 11  quantidade_itens               50000 non-null  int64         \n",
      " 12  peso_total_kg                  50000 non-null  float64       \n",
      "dtypes: category(3), datetime64[ns](1), float64(5), int64(4)\n",
      "memory usage: 4.0 MB\n",
      "None\n",
      "\n",
      "Estatísticas Descritivas:\n",
      "          id_pedido            data_hora_pedido  percentual_ocupacao_CD  \\\n",
      "count  50000.000000                       50000            50000.000000   \n",
      "mean   25000.500000  2024-07-01 10:39:20.952000               74.760136   \n",
      "min        1.000000         2024-01-01 00:00:00               40.000000   \n",
      "25%    12500.750000         2024-03-31 16:00:00               64.940000   \n",
      "50%    25000.500000         2024-07-02 02:30:00               74.970000   \n",
      "75%    37500.250000         2024-10-01 00:15:00               85.070000   \n",
      "max    50000.000000         2024-12-31 00:00:00              100.000000   \n",
      "std    14433.901067                         NaN               14.179241   \n",
      "\n",
      "       tempo_separacao_min  tempo_embalagem_min  \\\n",
      "count         50000.000000         50000.000000   \n",
      "mean             19.956732            12.496404   \n",
      "min               5.000000             2.000000   \n",
      "25%              16.080000            10.290000   \n",
      "50%              19.960000            12.490000   \n",
      "75%              23.840000            14.710000   \n",
      "max              45.360000            25.590000   \n",
      "std               5.715948             3.260079   \n",
      "\n",
      "       tempo_total_processamento_min  atraso_transporte_min  erro_picking  \\\n",
      "count                   50000.000000           50000.000000  50000.000000   \n",
      "mean                       44.445442              11.308160      0.050740   \n",
      "min                        15.840000               0.000000      0.000000   \n",
      "25%                        39.040000               0.000000      0.000000   \n",
      "50%                        44.410000               0.000000      0.000000   \n",
      "75%                        49.830000               0.000000      0.000000   \n",
      "max                        74.150000             119.000000      1.000000   \n",
      "std                         7.854856              27.929201      0.219468   \n",
      "\n",
      "       quantidade_itens  peso_total_kg  \n",
      "count       50000.00000   50000.000000  \n",
      "mean            4.99402      15.191277  \n",
      "min             1.00000       0.500000  \n",
      "25%             3.00000       7.850000  \n",
      "50%             5.00000      15.170000  \n",
      "75%             7.00000      22.540000  \n",
      "max             9.00000      30.000000  \n",
      "std             2.58124       8.493484  \n"
     ]
    }
   ],
   "source": [
    "# Exibir informações sobre o dataset processado\n",
    "print(\"\\nInformações do Dataset Processado:\")\n",
    "print(df.info())\n",
    "print(\"\\nEstatísticas Descritivas:\")\n",
    "print(df.describe())"
   ]
  }
 ],
 "metadata": {
  "jupytext": {
   "cell_metadata_filter": "-all",
   "main_language": "python",
   "notebook_metadata_filter": "-all"
  },
  "kernelspec": {
   "display_name": ".venv",
   "language": "python",
   "name": "python3"
  },
  "language_info": {
   "codemirror_mode": {
    "name": "ipython",
    "version": 3
   },
   "file_extension": ".py",
   "mimetype": "text/x-python",
   "name": "python",
   "nbconvert_exporter": "python",
   "pygments_lexer": "ipython3",
   "version": "3.12.3"
  }
 },
 "nbformat": 4,
 "nbformat_minor": 5
}
